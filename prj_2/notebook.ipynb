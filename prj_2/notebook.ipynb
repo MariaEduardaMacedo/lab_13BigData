{
 "cells": [
  {
   "cell_type": "code",
   "execution_count": 2,
   "metadata": {},
   "outputs": [
    {
     "name": "stderr",
     "output_type": "stream",
     "text": [
      "25/04/05 01:03:58 WARN Utils: Service 'SparkUI' could not bind on port 4040. Attempting port 4041.\n"
     ]
    },
    {
     "name": "stdout",
     "output_type": "stream",
     "text": [
      "Estudantes com mais de 20 anos\n"
     ]
    },
    {
     "name": "stderr",
     "output_type": "stream",
     "text": [
      "                                                                                \r"
     ]
    },
    {
     "name": "stdout",
     "output_type": "stream",
     "text": [
      "+----------+-----+\n",
      "|     Curso|Total|\n",
      "+----------+-----+\n",
      "|    Física|    1|\n",
      "|Matemática|    2|\n",
      "|  Biologia|    1|\n",
      "|   Quimica|    1|\n",
      "+----------+-----+\n",
      "\n",
      "Idade média dos estudantes\n",
      "+----------+\n",
      "|IdadeMedia|\n",
      "+----------+\n",
      "|      20.8|\n",
      "+----------+\n",
      "\n"
     ]
    }
   ],
   "source": [
    "from pyspark.sql import SparkSession\n",
    "\n",
    "#Criar uma sessão Spark\n",
    "spark = SparkSession.builder\\\n",
    "    .appName(\"Exemplo de spark SQL\")\\\n",
    "    .getOrCreate()\n",
    "\n",
    "\n",
    "#Criar um conjunto de dados fictício sobre estudantes\n",
    "data = [\n",
    "    (\"Ana\",20,\"Matemática\"),\n",
    "    (\"Pedro\",22,\"Física\"),\n",
    "    (\"Maria\",19,\"Quimica\"),\n",
    "    (\"Lucas\",21,\"Biologia\"),\n",
    "    (\"João\",22,\"Matemática\")\n",
    "]\n",
    "\n",
    "#Definir o nome das colunas \n",
    "columns = [\"Nome\", \"Idade\",\"Curso\"]\n",
    "\n",
    "#Criar DataFrame\n",
    "df = spark.createDataFrame(data,columns)\n",
    "\n",
    "#Registrar o DataFrame como uma tabela temporária\n",
    "df.createOrReplaceTempView(\"Estudantes\")\n",
    "\n",
    "#executar consultas SQL \n",
    "print(\"Estudantes com mais de 20 anos\")\n",
    "spark.sql(\"SELECT Curso, COUNT(*) AS Total FROM Estudantes GROUP BY Curso\").show()\n",
    "\n",
    "print(\"Idade média dos estudantes\")\n",
    "spark.sql(\"SELECT AVG(Idade) AS IdadeMedia FROM Estudantes\").show()\n",
    "\n",
    "#Encerrar sessão spark\n",
    "spark.stop()"
   ]
  }
 ],
 "metadata": {
  "kernelspec": {
   "display_name": "Python 3",
   "language": "python",
   "name": "python3"
  },
  "language_info": {
   "codemirror_mode": {
    "name": "ipython",
    "version": 3
   },
   "file_extension": ".py",
   "mimetype": "text/x-python",
   "name": "python",
   "nbconvert_exporter": "python",
   "pygments_lexer": "ipython3",
   "version": "3.12.1"
  }
 },
 "nbformat": 4,
 "nbformat_minor": 2
}
