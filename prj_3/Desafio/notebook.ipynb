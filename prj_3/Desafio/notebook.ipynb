{
 "cells": [
  {
   "cell_type": "code",
   "execution_count": 7,
   "id": "c6624cf8",
   "metadata": {},
   "outputs": [
    {
     "name": "stderr",
     "output_type": "stream",
     "text": [
      "25/04/06 19:08:52 WARN SparkSession: Using an existing Spark session; only runtime SQL configurations will take effect.\n",
      "25/04/06 19:08:52 WARN SparkSession: Using an existing Spark session; only runtime SQL configurations will take effect.\n"
     ]
    },
    {
     "name": "stdout",
     "output_type": "stream",
     "text": [
      "Primeiras linhas do arquivo Desafio.csv:\n",
      "+----------+------------+-----------+\n",
      "|id_cliente|valor_compra|data_compra|\n",
      "+----------+------------+-----------+\n",
      "|         1|      150.75| 2023-01-15|\n",
      "|         2|        89.9| 2023-02-10|\n",
      "|         3|       200.0| 2023-03-05|\n",
      "|         4|        45.5| 2023-04-20|\n",
      "|         5|      300.25| 2023-05-18|\n",
      "|         6|       120.0| 2023-06-12|\n",
      "|         7|       75.99| 2023-07-08|\n",
      "|         8|       180.4| 2023-08-25|\n",
      "|         9|        95.0| 2023-09-14|\n",
      "|        10|       250.6| 2023-10-03|\n",
      "+----------+------------+-----------+\n",
      "\n",
      "Clientes com maior valor de compra:\n",
      "+----------+-----------------+\n",
      "|id_cliente|sum(valor_compra)|\n",
      "+----------+-----------------+\n",
      "|         5|           300.25|\n",
      "|        10|            250.6|\n",
      "|         3|            200.0|\n",
      "|         8|            180.4|\n",
      "|         1|           150.75|\n",
      "|         6|            120.0|\n",
      "|         9|             95.0|\n",
      "|         2|             89.9|\n",
      "|         7|            75.99|\n",
      "|         4|             45.5|\n",
      "+----------+-----------------+\n",
      "\n",
      "Total de vendas por ano:\n",
      "+----+------------------+\n",
      "| ano|      total_vendas|\n",
      "+----+------------------+\n",
      "|2023|1508.3899999999999|\n",
      "+----+------------------+\n",
      "\n"
     ]
    }
   ],
   "source": [
    "from pyspark.sql import SparkSession\n",
    "from pyspark.sql.functions import col, year, sum\n",
    "spark = SparkSession.builder.appName(\"ExerciciosSpark\").getOrCreate()\n",
    "\n",
    "df = spark.read.csv(\"Desafio.csv\",header=True,inferSchema=True)\n",
    "\n",
    "spark = SparkSession.builder.appName(\"Desafio\").getOrCreate()\n",
    "\n",
    "df= spark.read.csv(\"Desafio.csv\", header=True, inferSchema=True)\n",
    "\n",
    "print(\"Primeiras linhas do arquivo Desafio.csv:\")\n",
    "df.show()\n",
    "\n",
    "cliente_maior_compra = df.groupBy(\"id_cliente\").sum(\"valor_compra\").orderBy(col(\"sum(valor_compra)\").desc())\n",
    "print(\"Clientes com maior valor de compra:\")\n",
    "cliente_maior_compra.show()\n",
    "\n",
    "vendas_anuais = df.withColumn(\"ano\", year(col(\"data_compra\"))) \\\n",
    "    .groupBy(\"ano\") \\\n",
    "    .agg(sum(\"valor_compra\").alias(\"total_vendas\")) \\\n",
    "    .orderBy(col(\"ano\"))\n",
    "\n",
    "# Exibir o total de vendas anuais\n",
    "print(\"Total de vendas por ano:\")\n",
    "vendas_anuais.show()"
   ]
  }
 ],
 "metadata": {
  "kernelspec": {
   "display_name": "Python 3",
   "language": "python",
   "name": "python3"
  },
  "language_info": {
   "codemirror_mode": {
    "name": "ipython",
    "version": 3
   },
   "file_extension": ".py",
   "mimetype": "text/x-python",
   "name": "python",
   "nbconvert_exporter": "python",
   "pygments_lexer": "ipython3",
   "version": "3.12.1"
  }
 },
 "nbformat": 4,
 "nbformat_minor": 5
}
