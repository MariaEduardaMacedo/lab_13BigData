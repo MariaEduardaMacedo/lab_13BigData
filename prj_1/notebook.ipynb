{
 "cells": [
  {
   "cell_type": "code",
   "execution_count": 2,
   "metadata": {},
   "outputs": [
    {
     "name": "stdout",
     "output_type": "stream",
     "text": [
      "+-------+\n",
      "|   Nome|\n",
      "+-------+\n",
      "|    Bob|\n",
      "|Charlie|\n",
      "+-------+\n",
      "\n"
     ]
    }
   ],
   "source": [
    "from pyspark.sql import SparkSession\n",
    "\n",
    "#Criar uma sessão Spark\n",
    "spark = SparkSession.builder\\\n",
    "    .appName(\"Exemplo de spark SQL\")\\\n",
    "    .getOrCreate()\n",
    "\n",
    "#Criar dados diretamente\n",
    "data = [(\"Alice\", 24), (\"Bob\",30),(\"Charlie\", 29)]\n",
    "colums = [\"Nome\",\"Idade\"]\n",
    "\n",
    "#criar DataFrame\n",
    "df = spark.createDataFrame(data,colums)\n",
    "\n",
    "#Registrar como tabela temporária\n",
    "df.createOrReplaceTempView(\"Pessoas\")\n",
    "\n",
    "#Executar uma consulta SQL simples\n",
    "resultado = spark.sql(\"SELECT Nome FROM Pessoas WHERE Idade > 25\")\n",
    "resultado.show()"
   ]
  }
 ],
 "metadata": {
  "kernelspec": {
   "display_name": "Python 3",
   "language": "python",
   "name": "python3"
  },
  "language_info": {
   "codemirror_mode": {
    "name": "ipython",
    "version": 3
   },
   "file_extension": ".py",
   "mimetype": "text/x-python",
   "name": "python",
   "nbconvert_exporter": "python",
   "pygments_lexer": "ipython3",
   "version": "3.12.1"
  }
 },
 "nbformat": 4,
 "nbformat_minor": 2
}
