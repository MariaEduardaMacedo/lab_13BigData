{
 "cells": [
  {
   "cell_type": "code",
   "execution_count": null,
   "metadata": {},
   "outputs": [
    {
     "name": "stderr",
     "output_type": "stream",
     "text": [
      "25/03/29 00:24:06 WARN Utils: Your hostname, codespaces-aa4c8f resolves to a loopback address: 127.0.0.1; using 10.0.0.35 instead (on interface eth0)\n",
      "25/03/29 00:24:06 WARN Utils: Set SPARK_LOCAL_IP if you need to bind to another address\n",
      "Setting default log level to \"WARN\".\n",
      "To adjust logging level use sc.setLogLevel(newLevel). For SparkR, use setLogLevel(newLevel).\n",
      "25/03/29 00:24:07 WARN NativeCodeLoader: Unable to load native-hadoop library for your platform... using builtin-java classes where applicable\n",
      "                                                                                \r"
     ]
    },
    {
     "name": "stdout",
     "output_type": "stream",
     "text": [
      "+-------+\n",
      "|   Nome|\n",
      "+-------+\n",
      "|    Bob|\n",
      "|Charlie|\n",
      "+-------+\n",
      "\n"
     ]
    },
    {
     "name": "stderr",
     "output_type": "stream",
     "text": [
      "25/03/29 00:24:22 WARN GarbageCollectionMetrics: To enable non-built-in garbage collector(s) List(G1 Concurrent GC), users should configure it(them) to spark.eventLog.gcMetrics.youngGenerationGarbageCollectors or spark.eventLog.gcMetrics.oldGenerationGarbageCollectors\n"
     ]
    }
   ],
   "source": [
    "from pyspark.sql import SparkSession\n",
    "\n",
    "#Criar uma sessão Spark\n",
    "spark = SparkSession.builder\\\n",
    "    .appName(\"Exemplo de spark SQL\")\\\n",
    "    .getOrCreate()\n",
    "\n",
    "#Criar dados diretamente\n",
    "data = [(\"Alice\", 24), (\"Bob\",30),(\"Charlie\", 29)]\n",
    "colums = [\"Nome\",\"Idade\"]\n",
    "\n",
    "#criar DataFrame\n",
    "df = spark.createDataFrame(data,colums)\n",
    "\n",
    "#Registrar como tabela temporária\n",
    "df.createOrReplaceTempView(\"Pessoas\")\n",
    "\n",
    "#Executar uma consulta SQL simples\n",
    "resultado = spark.sql(\"SELECT Nome FROM Pessoas WHERE Idade > 25\")\n",
    "resultado.show()"
   ]
  }
 ],
 "metadata": {
  "kernelspec": {
   "display_name": "Python 3",
   "language": "python",
   "name": "python3"
  },
  "language_info": {
   "codemirror_mode": {
    "name": "ipython",
    "version": 3
   },
   "file_extension": ".py",
   "mimetype": "text/x-python",
   "name": "python",
   "nbconvert_exporter": "python",
   "pygments_lexer": "ipython3",
   "version": "3.12.1"
  }
 },
 "nbformat": 4,
 "nbformat_minor": 2
}
